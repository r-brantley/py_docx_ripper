{
 "cells": [
  {
   "cell_type": "code",
   "execution_count": 1,
   "id": "2bd799d8",
   "metadata": {},
   "outputs": [],
   "source": [
    "#modules used for extracting information from word / xml documents\n",
    "import os\n",
    "import re\n",
    "import xml.dom.minidom\n",
    "import zipfile"
   ]
  },
  {
   "cell_type": "code",
   "execution_count": 2,
   "id": "0f32ded4",
   "metadata": {},
   "outputs": [],
   "source": [
    "#Set root for ripper\n",
    "riproot = \"/Users/ryanbrantley/Library/CloudStorage/OneDrive-SharedLibraries-OneMedNet/Compliance - Word Docs/\""
   ]
  },
  {
   "cell_type": "code",
   "execution_count": 3,
   "id": "d34488bb",
   "metadata": {},
   "outputs": [],
   "source": [
    "#is it is a dotfile\n",
    "def dotfile_file(file):\n",
    "    if raw := re.match('^[.][\\S]+$', file) is not None:\n",
    "        return(True)"
   ]
  },
  {
   "cell_type": "code",
   "execution_count": 4,
   "id": "8edcb2e7",
   "metadata": {},
   "outputs": [],
   "source": [
    "#is it docx file extension?\n",
    "def docx_file(file):\n",
    "    if raw := re.search('^[^.]+$|\\.(?=docx)[^. \\n\\r]', file) is not None:\n",
    "        return(True)"
   ]
  },
  {
   "cell_type": "code",
   "execution_count": 5,
   "id": "fb073646",
   "metadata": {},
   "outputs": [],
   "source": [
    "# function to get the path to the file to define breadcrumb taxonomy\n",
    "def doc_tax(path):\n",
    "    cookie = path.split(\"/\")\n",
    "    if (len(cookie) >= 1 and range(len(cookie))):\n",
    "        slices = []\n",
    "        for c in range(len(cookie)):\n",
    "            crumb = cookie[c]\n",
    "            slices.append(crumb)\n",
    "        return(slices)"
   ]
  },
  {
   "cell_type": "code",
   "execution_count": 50,
   "id": "9bebf46a",
   "metadata": {},
   "outputs": [],
   "source": [
    "def docx_content(docx):\n",
    "    docx_sect = []\n",
    "    praw = re.findall(r\"<w:pStyle w:val=\\\"([\\S]+)\\\"\\/>[.\\s\\S]*?(<w:(?:t|t xml:[.\\S]+)>(?:[.\\s\\S]+?)<\\/w:p>)\", docx)\n",
    "    for row in praw:\n",
    "        tag = row[0]\n",
    "        #docx_sect[0] = row [0]\n",
    "        #print(row[0]+\" | \", end='\\r')\n",
    "        for val in row:\n",
    "            nest = re.findall(r\"(?:<w:(?:t|t xml:[.\\S]+)>([.\\s\\S]+?)<\\/w:t>)\",val)\n",
    "            s = ' '.join(nest)\n",
    "            #print(s)\n",
    "        docx_sect.append([tag, s])\n",
    "        #print(docx_sect)\n",
    "    return docx_sect"
   ]
  },
  {
   "cell_type": "code",
   "execution_count": 51,
   "id": "4a06f22a",
   "metadata": {},
   "outputs": [],
   "source": [
    "def str_xml(file):\n",
    "    docx = zipfile.ZipFile(file, mode=\"r\")\n",
    "    ripxml = xml.dom.minidom.parseString(docx.read('word/document.xml'))\n",
    "    ripxml = str(docx.read('word/document.xml'))\n",
    "    docx.close\n",
    "    return ripxml\n",
    "    "
   ]
  },
  {
   "cell_type": "code",
   "execution_count": 66,
   "id": "83ffbeeb",
   "metadata": {},
   "outputs": [],
   "source": [
    "def tree_printer(riproot):\n",
    "    payload = []\n",
    "    for root, dirs, files in os.walk(riproot):\n",
    "        for f in range(len(files)):\n",
    "            file = files[f]\n",
    "            #print(file)\n",
    "            ### skip dotfiles\n",
    "            if not dotfile_file(file):\n",
    "                #capture taxonomy root of SOP\n",
    "                taxroot = root.split(riproot)[1]\n",
    "                \n",
    "                if docx_file(file):\n",
    "                    content = str_xml(root+\"/\"+file)\n",
    "                    #print(content)\n",
    "                    content = docx_content(content)\n",
    "                    #print(file, \"|\", taxroot, \"|\", root)\n",
    "                    #for b in range(len(content)):\n",
    "                        #print(\"\\t\\tCONTENT\"+str(content[b]))\n",
    "                    rip_out = {\n",
    "                        'file': file,\n",
    "                        'taxonomy': taxroot,\n",
    "                        'content': content\n",
    "                    }\n",
    "                if not docx_file(file):\n",
    "                    print(\"DO THE OTHER FILE HANDLER FOR:\"+file)\n",
    "                    #do pdf and vsd attachment\n",
    "    print(rip_out)\n",
    "    return rip_out\n"
   ]
  },
  {
   "cell_type": "code",
   "execution_count": 67,
   "id": "c5851008",
   "metadata": {
    "scrolled": false
   },
   "outputs": [
    {
     "name": "stdout",
     "output_type": "stream",
     "text": [
      "DO THE OTHER FILE HANDLER FOR:omn_sops.txt\n",
      "DO THE OTHER FILE HANDLER FOR:FDA Guidance - SW validation C365D314d01.pdf\n",
      "DO THE OTHER FILE HANDLER FOR:FDA Guidance  Design Control 9656D31Bd01.pdf\n",
      "DO THE OTHER FILE HANDLER FOR:SOP-031 Medical Device Compliance redline 2016-04-21.pdf\n",
      "DO THE OTHER FILE HANDLER FOR:21 CFR 820.pdf\n",
      "DO THE OTHER FILE HANDLER FOR:FDA Guidance - off-the-shelf A74FF31Bd01.pdf\n",
      "DO THE OTHER FILE HANDLER FOR:Adobe EchoSign 21CFRPart11 Compliance-1009 (1).pdf\n",
      "DO THE OTHER FILE HANDLER FOR:CFR Part 11.pdf\n",
      "DO THE OTHER FILE HANDLER FOR:CFR Part 11 response.pdf\n",
      "DO THE OTHER FILE HANDLER FOR:DOC-063-1 Monthly Invoicing Process.vsd\n",
      "DO THE OTHER FILE HANDLER FOR:HIPAA Regulations.pdf\n",
      "DO THE OTHER FILE HANDLER FOR:HIPAA Security Checklist.pdf\n",
      "DO THE OTHER FILE HANDLER FOR:DOC-002-2 SOP Overview.vsd\n",
      "DO THE OTHER FILE HANDLER FOR:DOC-052-1 Org Charts.vsd\n",
      "DO THE OTHER FILE HANDLER FOR:SOP-100s Information Security redline 2019-04-18.pdf\n",
      "DO THE OTHER FILE HANDLER FOR:SR Marked - HIPAA Agreement 2015-07-15.DOCX\n",
      "DO THE OTHER FILE HANDLER FOR:2011_ORA_QUALITY_MANUAL_FEB_2011.PDF\n",
      "DO THE OTHER FILE HANDLER FOR:DOC-202-2 QualitySystemOverview.pdf\n",
      "DO THE OTHER FILE HANDLER FOR:DOC-202-1 Quality Systems Plan Flow Chart.pdf\n",
      "DO THE OTHER FILE HANDLER FOR:DOC-202-2 QualitySystemOverview.vsd\n",
      "DO THE OTHER FILE HANDLER FOR:21 CFR 820.pdf\n",
      "DO THE OTHER FILE HANDLER FOR:DOC-202-1 Quality Systems Plan Flow Chart.vsd\n",
      "DO THE OTHER FILE HANDLER FOR:OMN Standard Development Process v5.pdf\n",
      "DO THE OTHER FILE HANDLER FOR:OMN Features Inventory V1t.xlsx\n",
      "DO THE OTHER FILE HANDLER FOR:MAPI Preparation and Maintenance of a Device History Record.doc\n",
      "DO THE OTHER FILE HANDLER FOR:MAPI Preparation and Maintenance of a Design History File.doc\n",
      "DO THE OTHER FILE HANDLER FOR:SOP-209 Records DRAFT.pdf\n",
      "DO THE OTHER FILE HANDLER FOR:FRM-207-2 Vendor Questionnaire.xlsx\n",
      "DO THE OTHER FILE HANDLER FOR:MAPI Preparation and Maintenance of a Device Master Record.doc\n",
      "DO THE OTHER FILE HANDLER FOR:DOC-205-2 Software Requirements Specification.pdf\n",
      "DO THE OTHER FILE HANDLER FOR:DOC-205-1 Planning Template.pdf\n",
      "DO THE OTHER FILE HANDLER FOR:MAPI Design Control.doc\n",
      "DO THE OTHER FILE HANDLER FOR:MAPI Risk Management.doc\n",
      "DO THE OTHER FILE HANDLER FOR:MAPI Medical Device Reporting-US.doc\n",
      "{'file': 'SOP-321 Vida Installation and Support.docx', 'taxonomy': '3XX Customer Service WIP', 'content': [['SOPHeaderTable', 'Revision:'], ['SOPHeaderTable', '1'], ['SOPHeaderTable', 'Signed:'], ['SOPHeaderTable', 'Signer Name:'], ['SOPHeaderTable', 'Signing Reason:'], ['SOPHeaderTable', 'Signing Time:'], ['SOPHeaderTable', 'Effective:'], ['SOPHeaderTable', '5/2 /2017'], ['SOPHeaderTable', 'Owner:'], ['SOPHeaderTable', 'Director of Operations'], ['SOPHeaderTable', 'Review:'], ['SOPHeaderTable', 'Annual'], ['SOPHeaderTable', 'SOP- 3 21   Implementation and Support  for VIDA'], ['Heading1', 'Purpose'], ['Heading1', 'Scope'], ['ListParagraph', 'Applies to   Company Workforce Members from the Customer Service and Engineering Departments who provide Support and Implementation services to VIDA. '], ['ListParagraph', 'Refer to  SOP-302 Implementation and Support   for general support policies'], ['ListParagraph', 'Refer to VIDA Agreement  and amendments for additional contractual obligations. Any contractual obligations that apply to service and support should appear in this SOP. '], ['ListParagraph', 'Refer to VIDA System Documentation from Engineering .'], ['Heading1', 'Policies'], ['Heading2', 'Implementation , Installation, Support and Maintenance'], ['NestedList', 'Refer to  DOC-321  VIDA Support Procedures document. '], ['SOPBody', 'VIDA provides Tier 1 support directly to customer.  Company provides support directly to VIDA.'], ['SOPBody', 'Response times  in the  VIDA OMN  agreement  are as follows:'], ['SOPBody', 'Severity'], ['SOPBody', 'Description'], ['SOPBody', 'Response time'], ['SOPBody', 'Resolution Time'], ['SOPBody', 'Report Time'], ['SOPBody', 'Severity 1 (Critical)'], ['NormalWeb', 'A transfer that cannot complete.'], ['NormalWeb', '(Agreement: An issue adversely affecting the delivery of patient care or causing financial liability due to operational or  information deficiency. )'], ['SOPBody', '1 hour'], ['SOPBody', '8-hour workaround or fix'], ['SOPBody', 'Hourly'], ['SOPBody', 'Severity 2 ( High)'], ['SOPBody', 'Worfklow  impacted, but transfer completes. '], ['SOPBody', \"(Agreement: An issue that is not adversely affecting the delivery of patient care or causing financial liability, but is repeatedly affecting a Customer\\\\'s or VIDA\\\\'s usage of the OneMedNet Product, the Embedded Software or data integrity.)\"], ['SOPBody', '4 hour during regular business hours'], ['SOPBody', '24-hour workaround or fix'], ['SOPBody', 'Every 4 hours'], ['SOPBody', 'Severity 3 ( Standard )'], ['NormalWeb', 'Support items not Critical or High.'], ['NormalWeb', '(Agreement: An issue that does not impact the operation or use of the OneMedNet Product or the '], ['NormalWeb', 'Interfaced Software.)'], ['SOPBody', '1 business day'], ['SOPBody', '30-day  workaround or fix'], ['SOPBody', 'As requested'], ['SOPBody', 'Revision History']]}\n"
     ]
    },
    {
     "data": {
      "text/plain": [
       "{'file': 'SOP-321 Vida Installation and Support.docx',\n",
       " 'taxonomy': '3XX Customer Service WIP',\n",
       " 'content': [['SOPHeaderTable', 'Revision:'],\n",
       "  ['SOPHeaderTable', '1'],\n",
       "  ['SOPHeaderTable', 'Signed:'],\n",
       "  ['SOPHeaderTable', 'Signer Name:'],\n",
       "  ['SOPHeaderTable', 'Signing Reason:'],\n",
       "  ['SOPHeaderTable', 'Signing Time:'],\n",
       "  ['SOPHeaderTable', 'Effective:'],\n",
       "  ['SOPHeaderTable', '5/2 /2017'],\n",
       "  ['SOPHeaderTable', 'Owner:'],\n",
       "  ['SOPHeaderTable', 'Director of Operations'],\n",
       "  ['SOPHeaderTable', 'Review:'],\n",
       "  ['SOPHeaderTable', 'Annual'],\n",
       "  ['SOPHeaderTable', 'SOP- 3 21   Implementation and Support  for VIDA'],\n",
       "  ['Heading1', 'Purpose'],\n",
       "  ['Heading1', 'Scope'],\n",
       "  ['ListParagraph',\n",
       "   'Applies to   Company Workforce Members from the Customer Service and Engineering Departments who provide Support and Implementation services to VIDA. '],\n",
       "  ['ListParagraph',\n",
       "   'Refer to  SOP-302 Implementation and Support   for general support policies'],\n",
       "  ['ListParagraph',\n",
       "   'Refer to VIDA Agreement  and amendments for additional contractual obligations. Any contractual obligations that apply to service and support should appear in this SOP. '],\n",
       "  ['ListParagraph', 'Refer to VIDA System Documentation from Engineering .'],\n",
       "  ['Heading1', 'Policies'],\n",
       "  ['Heading2', 'Implementation , Installation, Support and Maintenance'],\n",
       "  ['NestedList', 'Refer to  DOC-321  VIDA Support Procedures document. '],\n",
       "  ['SOPBody',\n",
       "   'VIDA provides Tier 1 support directly to customer.  Company provides support directly to VIDA.'],\n",
       "  ['SOPBody', 'Response times  in the  VIDA OMN  agreement  are as follows:'],\n",
       "  ['SOPBody', 'Severity'],\n",
       "  ['SOPBody', 'Description'],\n",
       "  ['SOPBody', 'Response time'],\n",
       "  ['SOPBody', 'Resolution Time'],\n",
       "  ['SOPBody', 'Report Time'],\n",
       "  ['SOPBody', 'Severity 1 (Critical)'],\n",
       "  ['NormalWeb', 'A transfer that cannot complete.'],\n",
       "  ['NormalWeb',\n",
       "   '(Agreement: An issue adversely affecting the delivery of patient care or causing financial liability due to operational or  information deficiency. )'],\n",
       "  ['SOPBody', '1 hour'],\n",
       "  ['SOPBody', '8-hour workaround or fix'],\n",
       "  ['SOPBody', 'Hourly'],\n",
       "  ['SOPBody', 'Severity 2 ( High)'],\n",
       "  ['SOPBody', 'Worfklow  impacted, but transfer completes. '],\n",
       "  ['SOPBody',\n",
       "   \"(Agreement: An issue that is not adversely affecting the delivery of patient care or causing financial liability, but is repeatedly affecting a Customer\\\\'s or VIDA\\\\'s usage of the OneMedNet Product, the Embedded Software or data integrity.)\"],\n",
       "  ['SOPBody', '4 hour during regular business hours'],\n",
       "  ['SOPBody', '24-hour workaround or fix'],\n",
       "  ['SOPBody', 'Every 4 hours'],\n",
       "  ['SOPBody', 'Severity 3 ( Standard )'],\n",
       "  ['NormalWeb', 'Support items not Critical or High.'],\n",
       "  ['NormalWeb',\n",
       "   '(Agreement: An issue that does not impact the operation or use of the OneMedNet Product or the '],\n",
       "  ['NormalWeb', 'Interfaced Software.)'],\n",
       "  ['SOPBody', '1 business day'],\n",
       "  ['SOPBody', '30-day  workaround or fix'],\n",
       "  ['SOPBody', 'As requested'],\n",
       "  ['SOPBody', 'Revision History']]}"
      ]
     },
     "execution_count": 67,
     "metadata": {},
     "output_type": "execute_result"
    }
   ],
   "source": [
    "tree_printer(riproot)"
   ]
  },
  {
   "cell_type": "code",
   "execution_count": null,
   "id": "ba2bf054",
   "metadata": {},
   "outputs": [],
   "source": []
  }
 ],
 "metadata": {
  "kernelspec": {
   "display_name": "py_docx_ripper-jq3e5XPX",
   "language": "python",
   "name": "py_docx_ripper-jq3e5xpx"
  },
  "language_info": {
   "codemirror_mode": {
    "name": "ipython",
    "version": 3
   },
   "file_extension": ".py",
   "mimetype": "text/x-python",
   "name": "python",
   "nbconvert_exporter": "python",
   "pygments_lexer": "ipython3",
   "version": "3.10.2"
  }
 },
 "nbformat": 4,
 "nbformat_minor": 5
}
