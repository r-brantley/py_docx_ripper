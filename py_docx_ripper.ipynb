{
 "cells": [
  {
   "cell_type": "code",
   "execution_count": 1,
   "id": "2bd799d8",
   "metadata": {},
   "outputs": [],
   "source": [
    "#modules used for extracting information from word / xml documents\n",
    "import os\n",
    "import re\n",
    "import xml.dom.minidom\n",
    "import zipfile"
   ]
  },
  {
   "cell_type": "code",
   "execution_count": 2,
   "id": "0f32ded4",
   "metadata": {},
   "outputs": [],
   "source": [
    "#Set root for ripper\n",
    "riproot = \"//\""
   ]
  },
  {
   "cell_type": "code",
   "execution_count": 3,
   "id": "d34488bb",
   "metadata": {},
   "outputs": [],
   "source": [
    "#is it is a dotfile\n",
    "def dotfile_file(file):\n",
    "    if raw := re.match('^[.][\\S]+$', file) is not None:\n",
    "        return(True)"
   ]
  },
  {
   "cell_type": "code",
   "execution_count": 4,
   "id": "8edcb2e7",
   "metadata": {},
   "outputs": [],
   "source": [
    "#is it docx file extension?\n",
    "def docx_file(file):\n",
    "    if raw := re.search('^[^.]+$|\\.(?=docx)[^. \\n\\r]', file) is not None:\n",
    "        return(True)"
   ]
  },
  {
   "cell_type": "code",
   "execution_count": 5,
   "id": "fb073646",
   "metadata": {},
   "outputs": [],
   "source": [
    "# function to get the path to the file to define breadcrumb taxonomy\n",
    "def doc_tax(path):\n",
    "    cookie = path.split(\"/\")\n",
    "    if (len(cookie) >= 1 and range(len(cookie))):\n",
    "        slices = []\n",
    "        for c in range(len(cookie)):\n",
    "            crumb = cookie[c]\n",
    "            slices.append(crumb)\n",
    "        return(slices)"
   ]
  },
  {
   "cell_type": "code",
   "execution_count": 6,
   "id": "48cdf340",
   "metadata": {},
   "outputs": [],
   "source": [
    "def nsx(doc):\n",
    "        out = []\n",
    "        scan = re.findall(r'(<w[^>]+(?:/>|>)(?:.*?)</w:t>)',doc)\n",
    "        style_scan = re.compile(r'<w:pStyle w:val=\\\"([\\S]+)\\\"')\n",
    "        content_scan = re.compile(r'(?:<w:t(?: xml.*?\\\">|>))(.*?)</w:t>')\n",
    "\n",
    "        for w in range(len(scan)):\n",
    "            if style_scan.findall(scan[w]):    \n",
    "                dx_style = style_scan.findall(scan[w])[0]\n",
    "            else:\n",
    "                dx_style = \"default\"\n",
    "\n",
    "            if content_scan.findall(scan[w]):\n",
    "                content = content_scan.findall(scan[w])[0]\n",
    "                out.append([dx_style,content])\n",
    "                \n",
    "        return out #print(*out, sep=\"\\n\\n\")\n",
    "            \n"
   ]
  },
  {
   "cell_type": "code",
   "execution_count": 7,
   "id": "9bebf46a",
   "metadata": {},
   "outputs": [],
   "source": [
    "def docx_content(docx):\n",
    "    docx_sect = []\n",
    "    dx_t_sect = []\n",
    "    ts_q = r\"(?:<w:(?:t|t xml:[.\\S]+)>([.\\s\\S]+?)<\\/w:t>)\"\n",
    "    \n",
    "    traw = re.findall(ts_q, docx)\n",
    "    for ts in range(len(traw)):\n",
    "        print(traw[ts])\n",
    "    pass\n",
    "\n",
    "    praw = re.findall(r\"<w:pStyle w:val=\\\"([\\S]+)\\\"\\/>[.\\s\\S]*?(<w:(?:t|t xml:[.\\S]+)>(?:[.\\s\\S]+?)<\\/w:p>)\", docx)\n",
    "    for row in praw:\n",
    "        tag = row[0]\n",
    "        #docx_sect[0] = row [0]\n",
    "        #print(row[0]+\" | \", end='\\r')\n",
    "        for val in row:\n",
    "            nest = re.findall(r\"(?:<w:(?:t|t xml:[.\\S]+)>([.\\s\\S]+?)<\\/w:t>)\",val)\n",
    "            s = ' '.join(nest)\n",
    "            #print(s)\n",
    "        docx_sect.append([tag, s])\n",
    "        #print(docx_sect)\n",
    "    return docx_sect"
   ]
  },
  {
   "cell_type": "code",
   "execution_count": 8,
   "id": "4a06f22a",
   "metadata": {},
   "outputs": [],
   "source": [
    "def str_xml(file):\n",
    "    docx = zipfile.ZipFile(file, mode=\"r\")\n",
    "    ripxml = xml.dom.minidom.parseString(docx.read('word/document.xml'))\n",
    "    ripxml = str(docx.read('word/document.xml'))\n",
    "    docx.close\n",
    "    return ripxml\n",
    "    "
   ]
  },
  {
   "cell_type": "code",
   "execution_count": 9,
   "id": "83ffbeeb",
   "metadata": {},
   "outputs": [],
   "source": [
    "def tree_printer(riproot):\n",
    "    payload = []\n",
    "\n",
    "    for root, dirs, files in os.walk(riproot): #walk the dir specified for docs\n",
    "        for f in range(len(files)):\n",
    "            file = files[f]\n",
    "\n",
    "            if not dotfile_file(file): #skip dotfiles\n",
    "                taxroot = root.split(riproot)[1] #capture taxonomy root of SOP\n",
    "                \n",
    "                if docx_file(file):\n",
    "                    content = str_xml(root+\"/\"+file)\n",
    "                    content = nsx(content)\n",
    "                    rip_out = {\n",
    "                        'file': file,\n",
    "                        'root': root,\n",
    "                        'taxonomy': taxroot,\n",
    "                        'content': content\n",
    "                    }\n",
    "                    payload.append(rip_out)\n",
    "                \n",
    "                if not docx_file(file): #handle non-docx files that are not dotfiles\n",
    "                    pass\n",
    "\n",
    "    return payload\n"
   ]
  },
  {
   "cell_type": "code",
   "execution_count": 10,
   "id": "c5851008",
   "metadata": {
    "scrolled": false
   },
   "outputs": [],
   "source": [
    "allofit = tree_printer(riproot)"
   ]
  },
  {
   "cell_type": "code",
   "execution_count": 11,
   "id": "ba2bf054",
   "metadata": {},
   "outputs": [
    {
     "name": "stderr",
     "output_type": "stream",
     "text": [
      "IOPub data rate exceeded.\n",
      "The notebook server will temporarily stop sending output\n",
      "to the client in order to avoid crashing it.\n",
      "To change this limit, set the config variable\n",
      "`--NotebookApp.iopub_data_rate_limit`.\n",
      "\n",
      "Current values:\n",
      "NotebookApp.iopub_data_rate_limit=1000000.0 (bytes/sec)\n",
      "NotebookApp.rate_limit_window=3.0 (secs)\n",
      "\n"
     ]
    }
   ],
   "source": [
    "def uq(alist):\n",
    "    out = []\n",
    "    #list_set = set(alist)\n",
    "    uq_list = (list(alist))\n",
    "    for x in uq_list:\n",
    "        #print(x)\n",
    "        if x[0] not in out:\n",
    "            print(x[0])\n",
    "            out.append(x[0])\n",
    "    \n",
    "uq_list = []\n",
    "\n",
    "for c in range(len(allofit)):\n",
    "    print(allofit[c][\"content\"])\n",
    "    #uq_list.append(allofit[c][\"content\"])\n",
    "    #print(tdc[c])\n",
    "    \n",
    "\n",
    "    \n",
    "        \n",
    "\n"
   ]
  },
  {
   "cell_type": "code",
   "execution_count": 12,
   "id": "fd8869ac",
   "metadata": {},
   "outputs": [],
   "source": [
    "uq(uq_list)"
   ]
  },
  {
   "cell_type": "code",
   "execution_count": null,
   "id": "a0414671",
   "metadata": {},
   "outputs": [],
   "source": []
  }
 ],
 "metadata": {
  "kernelspec": {
   "display_name": "py_docx_ripper-jq3e5XPX",
   "language": "python",
   "name": "py_docx_ripper-jq3e5xpx"
  },
  "language_info": {
   "codemirror_mode": {
    "name": "ipython",
    "version": 3
   },
   "file_extension": ".py",
   "mimetype": "text/x-python",
   "name": "python",
   "nbconvert_exporter": "python",
   "pygments_lexer": "ipython3",
   "version": "3.10.2"
  }
 },
 "nbformat": 4,
 "nbformat_minor": 5
}
